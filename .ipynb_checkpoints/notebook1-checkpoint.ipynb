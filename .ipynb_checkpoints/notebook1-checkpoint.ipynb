{
 "cells": [
  {
   "cell_type": "code",
   "execution_count": 3,
   "id": "0517dd5e",
   "metadata": {},
   "outputs": [],
   "source": [
    "import re\n",
    "import pandas as pd\n",
    "\n",
    "def analyze_jicofo_log(log_file):\n",
    "    # Define the regex pattern to match the log line structure\n",
    "    pattern = r'(\\w+)\\s+(\\d{4}-\\d{2}-\\d{2})\\s+(\\d{2}:\\d{2}:\\d{2}\\.\\d+)\\s+(\\w+):\\s+\\[(\\d+)\\]\\s+(.*)'\n",
    "    \n",
    "    # Initialize lists to store extracted data\n",
    "    dates = []\n",
    "    times = []\n",
    "    log_levels = []\n",
    "    thread_contexts = []\n",
    "    messages = []\n",
    "    \n",
    "    # Open the log file and read each line\n",
    "    with open(log_file, 'r') as file:\n",
    "        for line in file:\n",
    "            # Use regex to match the pattern in each log line\n",
    "            match = re.match(pattern, line)\n",
    "            if match:\n",
    "                # Extract the matched groups\n",
    "                date, time, log_level, thread_context, _, message = match.groups()\n",
    "                \n",
    "                # Append the extracted data to the respective lists\n",
    "                dates.append(date)\n",
    "                times.append(time)\n",
    "                log_levels.append(log_level)\n",
    "                thread_contexts.append(thread_context)\n",
    "                messages.append(message)\n",
    "    \n",
    "    # Create a DataFrame from the extracted data\n",
    "    df = pd.DataFrame({\n",
    "        'Date': dates,\n",
    "        'Time': times,\n",
    "        'Log Level': log_levels,\n",
    "        'Thread Context': thread_contexts,\n",
    "        'Message': messages\n",
    "    })\n",
    "    \n",
    "    return df\n"
   ]
  },
  {
   "cell_type": "code",
   "execution_count": null,
   "id": "4c8ffd73",
   "metadata": {},
   "outputs": [],
   "source": []
  }
 ],
 "metadata": {
  "kernelspec": {
   "display_name": "Python 3 (ipykernel)",
   "language": "python",
   "name": "python3"
  },
  "language_info": {
   "codemirror_mode": {
    "name": "ipython",
    "version": 3
   },
   "file_extension": ".py",
   "mimetype": "text/x-python",
   "name": "python",
   "nbconvert_exporter": "python",
   "pygments_lexer": "ipython3",
   "version": "3.11.5"
  }
 },
 "nbformat": 4,
 "nbformat_minor": 5
}
